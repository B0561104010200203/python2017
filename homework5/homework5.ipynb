{
 "cells": [
  {
   "cell_type": "markdown",
   "metadata": {},
   "source": [
    "# Computer Programming Homework 5"
   ]
  },
  {
   "cell_type": "markdown",
   "metadata": {},
   "source": [
    "## These are intended to be solved with loops and conditionals. Don’t use strings, lists, or recursion.\n"
   ]
  },
  {
   "cell_type": "markdown",
   "metadata": {},
   "source": [
    "# Demo Tasks:\n",
    "\n",
    "# Task1. (Count Digits)\n",
    "## Problem Description\n",
    "Write the function called digit_count that takes a possibly-negative int and returns the number of digits in it. So, digit_count(12323) returns 5, digit_count (0) returns 1, and digit_count (-111) returns 3. One way you could do this would be to return len(str(abs(n))), but you cannot do that, since you may not use strings here!\n",
    "### Sample Input and Output\n",
    "<img src=\"https://drive.google.com/uc?id=0B8xcn16IzjOeYWctY2x6UWx4ZUU\" />\n",
    "https://drive.google.com/file/d/0B8xcn16IzjOeYWctY2x6UWx4ZUU/view?usp=sharing\n",
    "### Involved Concepts\n",
    "Arithmetic operation\n",
    "\n",
    "Don’t use strings, lists, or recursion.\n"
   ]
  },
  {
   "cell_type": "code",
   "execution_count": 5,
   "metadata": {},
   "outputs": [
    {
     "name": "stdout",
     "output_type": "stream",
     "text": [
      "input-3030\n"
     ]
    },
    {
     "data": {
      "text/plain": [
       "4"
      ]
     },
     "execution_count": 5,
     "metadata": {},
     "output_type": "execute_result"
    }
   ],
   "source": [
    "def digit_count(x):\n",
    "    x=abs(x)\n",
    "    count=1\n",
    "    while 1:      \n",
    "        if x/10!=0 :\n",
    "            x/=10\n",
    "            count+=1\n",
    "        else:\n",
    "            break\n",
    "    return count\n",
    "\n",
    "digit_count(input(\"input\"))\n"
   ]
  },
  {
   "cell_type": "markdown",
   "metadata": {},
   "source": [
    "# Task2. (Longest Digit Run)\n",
    "## Problem Description\n",
    "Write a function called longest_digit_run that takes a possibly-negative int and returns the number of longest consecutive digits in it.\n",
    "### Sample Input and Output\n",
    "<img src=\"https://drive.google.com/uc?id=0B8xcn16IzjOeWU45ZGVMUWVCMzA\" />\n",
    "https://drive.google.com/file/d/0B8xcn16IzjOeWU45ZGVMUWVCMzA/view?usp=sharing\n",
    "\n",
    "### Involved Concepts\n",
    "Arithmetic operation\n",
    "\n",
    "Don’t use strings, lists, or recursion.\n"
   ]
  },
  {
   "cell_type": "code",
   "execution_count": 3,
   "metadata": {},
   "outputs": [
    {
     "name": "stdout",
     "output_type": "stream",
     "text": [
      "input-1010102220000\n",
      "4\n"
     ]
    }
   ],
   "source": [
    "def longest_digit_run(x):\n",
    "    \n",
    "    x=abs(x)\n",
    "    a=x\n",
    "    count=1\n",
    "    concon=1\n",
    "    buf=-1\n",
    "    XD=set()\n",
    "    \n",
    "    while 1:        \n",
    "        if x/10!=0:\n",
    "            count+=1\n",
    "            x/=10\n",
    "        else:            \n",
    "            break\n",
    "    \n",
    "    \n",
    "    for e in range(count):\n",
    "              \n",
    "        if a%10 == buf:\n",
    "            concon+=1\n",
    "        else:\n",
    "            XD.add(concon)\n",
    "            concon=1               \n",
    "        buf = a%10\n",
    "        a/=10 \n",
    "    \n",
    "    return max(XD)\n",
    "\n",
    "\n",
    "print longest_digit_run(int(input('input')))"
   ]
  },
  {
   "cell_type": "markdown",
   "metadata": {},
   "source": [
    "# Task3. (Longest Bit Run)\n",
    "## Problem Description\n",
    "Same problem as task2, but your function called longest_bit_run that takes a possibly-negative int and returns the number of longest consecutive digits in it after the integer is transformed to binary form.\n",
    "### Sample Input and Output \n",
    "<img src=\"https://drive.google.com/uc?id=0B8xcn16IzjOeODV4em9LRUczUjA\" />\n",
    "    https://drive.google.com/file/d/0B8xcn16IzjOeODV4em9LRUczUjA/view?usp=sharing\n",
    "### Involved Concepts\n",
    "Arithmetic operation\n",
    "\n",
    "Don’t use strings, lists, or recursion.\n"
   ]
  },
  {
   "cell_type": "code",
   "execution_count": 4,
   "metadata": {},
   "outputs": [
    {
     "name": "stdout",
     "output_type": "stream",
     "text": [
      "input-1010102220000\n",
      "5\n"
     ]
    }
   ],
   "source": [
    "def longest_bit_run(x):\n",
    "    x=abs(x)\n",
    "    count=1\n",
    "    buf=-1\n",
    "    XD=set()\n",
    "    \n",
    "    while x/2 !=0:\n",
    "        \n",
    "        if x%2==buf:\n",
    "            count+=1\n",
    "\n",
    "        else:\n",
    "            XD.add(count)\n",
    "            count=1\n",
    "        \n",
    "        buf=x%2\n",
    "        x/=2\n",
    "        \n",
    "    if x%2==buf:\n",
    "            count+=1\n",
    "            XD.add(count)\n",
    "    \n",
    "    return max(XD)\n",
    "\n",
    "print longest_bit_run(int(input('input')))"
   ]
  },
  {
   "cell_type": "markdown",
   "metadata": {},
   "source": [
    "# Task4. (Set Bit Count)\n",
    "## Problem Description\n",
    "Write a function called set_bit_count that takes a possibly-negative int n and returns the number of bits set to 1.\n",
    "    \n",
    "### Sample Input and Output\n",
    "<img src=\"https://drive.google.com/uc?id=0B8xcn16IzjOeQ1YzbHZHNkxhVE0\" />\n",
    "https://drive.google.com/file/d/0B8xcn16IzjOeQ1YzbHZHNkxhVE0/view?usp=sharing\n",
    "### Involved Concepts\n",
    "Arithmetic operation\n",
    "\n",
    "Don’t use strings, lists, or recursion.\n"
   ]
  },
  {
   "cell_type": "code",
   "execution_count": 5,
   "metadata": {},
   "outputs": [
    {
     "name": "stdout",
     "output_type": "stream",
     "text": [
      "input-1010102220000\n",
      "20\n"
     ]
    }
   ],
   "source": [
    "def set_bit_count(x):\n",
    "    x=abs(x)\n",
    "    count=0\n",
    "    \n",
    "    while x/2 !=0 :\n",
    "        if x%2==1:\n",
    "            count+=1\n",
    "        x/=2\n",
    "        \n",
    "    if x%2==1:\n",
    "            count+=1\n",
    "    return count\n",
    "print set_bit_count(int(input('input')))"
   ]
  },
  {
   "cell_type": "markdown",
   "metadata": {},
   "source": [
    "# Task5. (Most Frequent Digit)\n",
    "## Problem Description\n",
    "Write the function most_frequent_digit(n), that takes a possibly-negative integer n and returns the digit from 0 to 9 that occurs most frequently in it, with ties going to the smaller digit.\n",
    "### Sample Input and Output \n",
    "<img src=\"https://drive.google.com/uc?id=0B8xcn16IzjOeRlBmV0pBb0s3NkE\" />\n",
    "https://drive.google.com/file/d/0B8xcn16IzjOeRlBmV0pBb0s3NkE/view?usp=sharing\n",
    "### Involved Concepts\n",
    "Arithmetic operation\n",
    "\n",
    "Don’t use strings, lists, or recursion.\n"
   ]
  },
  {
   "cell_type": "code",
   "execution_count": 6,
   "metadata": {},
   "outputs": [
    {
     "name": "stdout",
     "output_type": "stream",
     "text": [
      "input1919191919\n"
     ]
    },
    {
     "data": {
      "text/plain": [
       "1"
      ]
     },
     "execution_count": 6,
     "metadata": {},
     "output_type": "execute_result"
    }
   ],
   "source": [
    "def most_frequent_digit(x):\n",
    "    x=abs(x)\n",
    "    \n",
    "    x1=0\n",
    "    x2=0\n",
    "    x3=0\n",
    "    x4=0\n",
    "    x5=0\n",
    "    x6=0\n",
    "    x7=0\n",
    "    x8=0\n",
    "    x9=0\n",
    "    x0=0\n",
    "    \n",
    "    while x/10 !=0:\n",
    "        if x%10==1:\n",
    "            x1+=1\n",
    "        elif x%10==2:\n",
    "            x2+=1\n",
    "        elif x%10==3:\n",
    "            x3+=1\n",
    "        elif x%10==4:\n",
    "            x4+=1\n",
    "        elif x%10==5:\n",
    "            x5+=1\n",
    "        elif x%10==6:\n",
    "            x6+=1\n",
    "        elif x%10==7:\n",
    "            x7+=1\n",
    "        elif x%10==8:\n",
    "            x8+=1\n",
    "        elif x%10==9:\n",
    "            x9+=1\n",
    "        elif x%10==0:\n",
    "            x0+=1\n",
    "        x/=10\n",
    "        \n",
    "    if x%10==1:\n",
    "        x1+=1\n",
    "    elif x%10==2:\n",
    "        x2+=1\n",
    "    elif x%10==3:\n",
    "        x3+=1\n",
    "    elif x%10==4:\n",
    "        x4+=1\n",
    "    elif x%10==5:\n",
    "        x5+=1\n",
    "    elif x%10==6:\n",
    "        x6+=1\n",
    "    elif x%10==7:\n",
    "        x7+=1\n",
    "    elif x%10==8:\n",
    "        x8+=1\n",
    "    elif x%10==9:\n",
    "        x9+=1\n",
    "    elif x%10==0:\n",
    "        x0+=1\n",
    "            \n",
    "    if x0>=x1 and x0 >=x2 and x0>=x3 and x0>=x4 and x0>=x5 and x0>=x6 and x0>=x7 and x0>=x8 and x0>=x9:\n",
    "        return 0\n",
    "    elif x1>x0 and x1>=x2 and x1>=x3 and x1>=x4 and x1>=x5 and x1>=x6 and x1>=x7 and x1>=x8 and x1>=x9:\n",
    "        return 1\n",
    "    elif x2>x0 and x2>x1 and x2>=x3 and x2>=x4 and x2>=x5 and x2>=x6 and x2>=x7 and x2>=x8 and x2>=x9:\n",
    "        return 2\n",
    "    elif x3>x0 and x3>x1 and x3>x2 and x3>=x4 and x3>=x5 and x3>=x6 and x3>=x7 and x3>=x8 and x3>=x9:\n",
    "        return 3\n",
    "    elif x4>x0 and x4>x1 and x4>x2 and x4>x3 and x4>=x5 and x4>=x6 and x4>=x7 and x4>=x8 and x4>=x9:\n",
    "        return 4\n",
    "    elif x5>x0 and x5>x1 and x5>x2 and x5>x3 and x5>x4 and x5>=x6 and x5>=x7 and x5>=x8 and x5>=x9:\n",
    "        return 5\n",
    "    elif x6>x0 and x6>x1 and x6>x2 and x6>x3 and x6>x4 and x6>x5 and x6>=x7 and x6>=x8 and x6>=x9:\n",
    "        return 6\n",
    "    elif x7>x0 and x7>x1 and x7>x2 and x7>x3 and x7>x4 and x7>x5 and x7>x6 and x7>=x8 and x7>=x9:\n",
    "        return 7\n",
    "    elif x8>x0 and x8>x1 and x8>x2 and x8>x3 and x8>x4 and x8>x5 and x8>x6 and x8>x7 and x8>=x9:\n",
    "        return 8\n",
    "    elif x9>x0 and x9>x1 and x9>x2 and x9>x3 and x9>x4 and x9>x5 and x9>x6 and x9>x7 and x9>x8:\n",
    "        return 9\n",
    "\n",
    "most_frequent_digit(int(input('input')))"
   ]
  },
  {
   "cell_type": "markdown",
   "metadata": {},
   "source": [
    "# Task6. (Cosine Error)\n",
    "## Problem Description\n",
    "We can use a Taylor Series to approximate cos(x), with x in radians, as:\n",
    "$$cos(x)=1 - \\frac{x^2}{2!}+\\frac{x^4}{4!}-\\frac{x^6}{6!}+... = \\sum_{n=0}^\\infty \\frac{(-1)^n x^{2n}}{(2n)!}$$\n",
    "With this in mind, write the function cosine_error(x, k) that takes a float x (a value in radians) and a non-negative integer k, and first computes the value of the series above including the first k terms (counting from 0), and then returns the absolute value of the difference between that and math.cos(x), which is a measure of the error after that many terms. Since we start at 0, cosine_error(x, 0) should return |cos(x) - 1|. Note how the error quickly converges towards 0, especially for small x. Also, note that you may wish to use the math.factorial function.\n",
    "### Sample Input and Output \n",
    "<img src=\"https://drive.google.com/uc?id=0B8xcn16IzjOeU3lxUnRrUE1vamc\" />\n",
    "https://drive.google.com/file/d/0B8xcn16IzjOeU3lxUnRrUE1vamc/view?usp=sharing\n",
    "### Involved Concepts\n",
    "Arithmetic operation\n",
    "\n",
    "Don’t use strings, lists, or recursion.\n"
   ]
  },
  {
   "cell_type": "code",
   "execution_count": 18,
   "metadata": {},
   "outputs": [
    {
     "name": "stdout",
     "output_type": "stream",
     "text": [
      "x1.04719753333333333333\n",
      "k5\n",
      "4.33432841063e-07\n"
     ]
    }
   ],
   "source": [
    "import math\n",
    "def cosine_error(x, k):\n",
    "    sum=0\n",
    "    for e in range(k):\n",
    "        sum += (( ( (-1)**e )* ( (x)**(2*e) ) ) / ( math.factorial(2*e) ) )\n",
    "    return abs(math.cos(x)-sum)\n",
    "\n",
    "print cosine_error(input(\"x\"),int(input(\"k\")))"
   ]
  },
  {
   "cell_type": "code",
   "execution_count": null,
   "metadata": {
    "collapsed": true
   },
   "outputs": [],
   "source": []
  },
  {
   "cell_type": "code",
   "execution_count": null,
   "metadata": {
    "collapsed": true
   },
   "outputs": [],
   "source": []
  },
  {
   "cell_type": "code",
   "execution_count": null,
   "metadata": {
    "collapsed": true
   },
   "outputs": [],
   "source": []
  }
 ],
 "metadata": {
  "kernelspec": {
   "display_name": "Python 2",
   "language": "python",
   "name": "python2"
  },
  "language_info": {
   "codemirror_mode": {
    "name": "ipython",
    "version": 2
   },
   "file_extension": ".py",
   "mimetype": "text/x-python",
   "name": "python",
   "nbconvert_exporter": "python",
   "pygments_lexer": "ipython2",
   "version": "2.7.13"
  }
 },
 "nbformat": 4,
 "nbformat_minor": 2
}
