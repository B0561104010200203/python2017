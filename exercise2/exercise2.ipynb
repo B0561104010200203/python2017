{
 "cells": [
  {
   "cell_type": "markdown",
   "metadata": {},
   "source": [
    "## Computer Programming Exercise 2\n"
   ]
  },
  {
   "cell_type": "markdown",
   "metadata": {},
   "source": [
    "# Exercise 2_1: If\n",
    "    Try to conclude the difference between “==” and “!=”.\n"
   ]
  },
  {
   "cell_type": "code",
   "execution_count": 1,
   "metadata": {},
   "outputs": [
    {
     "name": "stdout",
     "output_type": "stream",
     "text": [
      "x =  3\n"
     ]
    }
   ],
   "source": [
    "def _main_():\n",
    "    x = 3\n",
    "    y = 5\n",
    "    if x == 3:\n",
    "        print 'x = ', x\n",
    "    if y!= 5:\n",
    "        print 'y = ', y\n",
    "\n",
    "_main_()"
   ]
  },
  {
   "cell_type": "markdown",
   "metadata": {},
   "source": [
    "Try to conclude the difference between ‘’==’’ and ‘’=’’ and fix the code.\n"
   ]
  },
  {
   "cell_type": "code",
   "execution_count": 2,
   "metadata": {},
   "outputs": [
    {
     "name": "stdout",
     "output_type": "stream",
     "text": [
      "x =  3\n"
     ]
    }
   ],
   "source": [
    "def main_():\n",
    "    x = 3\n",
    "    y == 5\n",
    "    if x == 3:\n",
    "        print 'x = ', x\n",
    "    if y!= 5:\n",
    "        print 'y = ', y\n",
    "\n",
    "_main_()"
   ]
  },
  {
   "cell_type": "markdown",
   "metadata": {},
   "source": [
    "# Exercise 2_2: If Chain & Multiple If\n",
    "\n",
    "## check the difference between the following codes"
   ]
  },
  {
   "cell_type": "code",
   "execution_count": 3,
   "metadata": {},
   "outputs": [
    {
     "name": "stdout",
     "output_type": "stream",
     "text": [
      "Enter your score: 87\n",
      "You get level A\n"
     ]
    }
   ],
   "source": [
    "def _main_():\n",
    "    \n",
    "    score = float(input('Enter your score: '))\n",
    "    if score >= 80.0:\n",
    "        grade = 'A'\n",
    "    elif score >= 70.0 and score<80:\n",
    "        grade = 'B'\n",
    "    elif score >= 60.0 and score<70:\n",
    "        grade = 'C'\n",
    "    else:\n",
    "        grade = 'F'\n",
    "        \n",
    "    print \"You get level\", grade\n",
    "\n",
    "_main_()"
   ]
  },
  {
   "cell_type": "code",
   "execution_count": 5,
   "metadata": {},
   "outputs": [
    {
     "name": "stdout",
     "output_type": "stream",
     "text": [
      "Enter your score: 57\n",
      "You get level F\n"
     ]
    }
   ],
   "source": [
    "def _main_():\n",
    "    \n",
    "    score = float(input('Enter your score: '))\n",
    "    if score >= 80.0:\n",
    "        grade = 'A'\n",
    "    elif score >= 70.0 and score<80:\n",
    "        grade = 'B'\n",
    "    elif score >= 60.0 and score<70:\n",
    "        grade = 'C'\n",
    "    else:\n",
    "        grade = 'F'\n",
    "        \n",
    "    print \"You get level\", grade\n",
    "\n",
    "_main_()"
   ]
  },
  {
   "cell_type": "markdown",
   "metadata": {},
   "source": [
    "# Demo Tasks\n",
    "# Task1. (Rock-paper-scissors)\n",
    "## Problem Description\n",
    "Rock-paper-scissors is a zero sum hand game usually played between two people, in which each player simultaneously forms one of three shapes with an outstretched hand. These shapes are \"rock\", \"paper\", and \"scissors\". The game has only three possible outcomes other than a tie: a player who decides to play rock will beat another player who has chosen scissors but will lose to one who has played paper ; a play of paper will lose to a play of scissors . If both players throw the same shape, the game is tied and is usually immediately replayed to break the tie.\n",
    "### Input\n",
    "String “r” or “s” or “p”\n",
    "### Output\n",
    "A string\n",
    "### Sample Input1\n",
    "Enter s, r, p for player 1: s\n",
    "\n",
    "Enter s, r, p for player 2: p\n",
    "### Sample Output1\n",
    "Player 1 wins!\n",
    "### Sample Input2\n",
    "Enter s, r, p for player 1: r\n",
    "\n",
    "Enter s, r, p for player 2: r\n",
    "### Sample Output2\n",
    "Two players tie!\n",
    "### Involved Concepts\n",
    "I/O operation, string\n",
    "\n"
   ]
  },
  {
   "cell_type": "code",
   "execution_count": 6,
   "metadata": {},
   "outputs": [
    {
     "name": "stdout",
     "output_type": "stream",
     "text": [
      "Enter s, r, p for player 1:s\n",
      "Enter s, r, p for player 2:p\n",
      "Player 1 wins!\n"
     ]
    }
   ],
   "source": [
    "s1=raw_input('Enter s, r, p for player 1:')\n",
    "s2=raw_input('Enter s, r, p for player 2:')\n",
    "if (s1 == 's' and s2 == 's' ) or (s1 == 'r' and s2 == 'r' ) or (s1 == 'p' and s2 == 'p' ):\n",
    "    print\"Two players tie!\"\n",
    "elif (s1 == 's' and s2 == 'p' ) or (s1 == 'p' and s2 == 'r' ) or (s1 == 'r' and s2 == 's' ):\n",
    "    print\"Player 1 wins!\"\n",
    "elif (s2 == 's' and s1 == 'p' ) or (s2 == 'p' and s1 == 'r' ) or (s2 == 'r' and s1 == 's' ):\n",
    "    print\"Player 2 wins!\"\n",
    "else:\n",
    "    print\"erro\""
   ]
  },
  {
   "cell_type": "markdown",
   "metadata": {},
   "source": [
    "# Task2. (Primary Arithmetic)\n",
    "## Problem Description\n",
    "In elementary school we have done an addition operation is aligned to the right of the two integers and then from right to left are added bit by bit. If the result is greater than the sum of cases is equal to 10 have a carry (carry) occurs. Your task is to determine two integers produced several Carry case when added. This will help primary school teachers analyze the addition topic of difficulty.\n",
    "### Input\n",
    "Every test data pair has two positive numbers, and the test data pair “0 0” means the end of the program. \n",
    "### Output\n",
    "A string\n",
    "### Sample Input1\n",
    "123 456\n",
    "### Sample Output1\n",
    "No carry operation\n",
    "### Sample Input2\n",
    "555 555\n",
    "### Sample Output2\n",
    "3 carry operations\n",
    "### Involved Concepts\n",
    "I/O operation, arithmetic operation\n",
    "\n"
   ]
  },
  {
   "cell_type": "code",
   "execution_count": 8,
   "metadata": {},
   "outputs": [
    {
     "name": "stdout",
     "output_type": "stream",
     "text": [
      "Enter int1: 456\n",
      "Enter int2: 789\n",
      "3 carry operation\n"
     ]
    }
   ],
   "source": [
    "x=input('Enter int1: ')\n",
    "y=input('Enter int2: ')\n",
    "carry=0\n",
    "if len(str(x))>=len(str(y)):\n",
    "    for e in range(len(str(x))):\n",
    "        if ((y/(10**(e)))%10 + (x/(10**(e)))%10 >=10 ):                  \n",
    "            carry+=1\n",
    "            x=x+10**(e+1)\n",
    "else:\n",
    "    for e in range(len(str(y))):\n",
    "        if ((y/(10**(e)))%10 + (x/(10**(e)))%10 >10 ):                  \n",
    "            carry+=1\n",
    "            y=y+10**(e+1)\n",
    "    \n",
    "if(carry==0):\n",
    "    print \"No carry operation\"\n",
    "else :\n",
    "    print (carry),\"carry operation\""
   ]
  },
  {
   "cell_type": "markdown",
   "metadata": {},
   "source": [
    "# Task3. (Digits of an Integer)\n",
    "## Problem Description\n",
    "Write a program that inputs a five-digit integer, separates the integer into its digits and prints them separated by one space each.\n",
    "### Sample Input\n",
    "42339\n",
    "### Sample Output\n",
    "4 2 3 3 9\n",
    "### Involved Concepts\n",
    "I/O operation, arithmetic operation\n"
   ]
  },
  {
   "cell_type": "code",
   "execution_count": 4,
   "metadata": {},
   "outputs": [
    {
     "name": "stdout",
     "output_type": "stream",
     "text": [
      "5 digit integer42339\n",
      "4 2 3 3 9\n"
     ]
    }
   ],
   "source": [
    "x = str(raw_input(\"5 digit integer\"))\n",
    "for e in x:\n",
    "    print int(e),\n",
    "    "
   ]
  },
  {
   "cell_type": "markdown",
   "metadata": {},
   "source": [
    "# Task4. (Find the Three Largest Number)\n",
    "## Problem Description\n",
    "The process of finding the largest number (i.e., the maximum of a group of numbers) is used frequently in computer applications. \n",
    "For example, a program that determines the winner of a sales contest inputs the number of units sold by each salesperson. \n",
    "The salesperson who sells the most units wins the contest. \n",
    "Please write a program that finds out the three largest number among the input numbers.\n",
    "### Input\n",
    "Number specifying total input numbers followed by input numbers separated by spaces.\n",
    "### Output\n",
    "Three largest number of the input numbers in descending order, separated by spaces.\n",
    "### Sample Input\n",
    "10\n",
    "\n",
    "9 7 8 3 2 1 10 6 4 5\n",
    "### Sample Output\n",
    "10 9 8\n",
    "### Involved Concepts\n",
    "I/O operation, repetition structure, logical operation\n"
   ]
  },
  {
   "cell_type": "code",
   "execution_count": 9,
   "metadata": {},
   "outputs": [
    {
     "name": "stdout",
     "output_type": "stream",
     "text": [
      "input10 9 7 8 3 2 1 10 6 4 5\n",
      "10 9 8\n"
     ]
    }
   ],
   "source": [
    "x=raw_input(\"input\")\n",
    "lis=x.strip().split(' ')\n",
    "i=0\n",
    "for e in lis:\n",
    "    lis[i]=int(lis[i])\n",
    "    i+=1\n",
    "bu=-2**31\n",
    "i=0\n",
    "for e in range(len(lis)):\n",
    "    if (max(lis) != bu):\n",
    "        if(i>=3):\n",
    "            break\n",
    "        print max(lis),\n",
    "        i+=1\n",
    "    bu=max(lis)\n",
    "    lis.remove(max(lis))"
   ]
  },
  {
   "cell_type": "markdown",
   "metadata": {},
   "source": [
    "# Task5. (Scientific Notation/E Notation)\n",
    "## Problem Description\n",
    "When you write a program that outputs large/small numbers, you would probably prefer read them in scientific notation. \n",
    "Please write a program that transforms input numbers to scientific notation.\n",
    "### Input\n",
    "A real number in normal notation\n",
    "### Output\n",
    "Corresponding real number in E notation, with only two digits following the decimal point\n",
    "### Sample Input 1\n",
    "68927382689\n",
    "### Sample Output 1\n",
    "6.89E10\n",
    "### Sample Input 2\n",
    "0.1919748\n",
    "### Sample Output 2\n",
    "1.92E-1\n",
    "### Involved Concepts\n",
    "I/O manipulation, arithmetic operation\n",
    "\n"
   ]
  },
  {
   "cell_type": "code",
   "execution_count": 14,
   "metadata": {},
   "outputs": [
    {
     "name": "stdout",
     "output_type": "stream",
     "text": [
      "input A real number in normal notation0.87\n",
      "8.70E-01\n"
     ]
    }
   ],
   "source": [
    "print ('%.2E'%(input(\"input A real number in normal notation\")))"
   ]
  },
  {
   "cell_type": "markdown",
   "metadata": {},
   "source": [
    "# Task6. (Palindromes)\n",
    "## Problem Description\n",
    "A palindrome is a number or a text phrase that reads the same backward as forward. For example, each of the following five-digit integers is a palindrome: 12321, 55555, 45554 and 11611. Write a program that reads in a five-digit integer and determines whether it’s a palindrome.\n",
    "### Input\n",
    "A five-digit integer\n",
    "### Output\n",
    "Boolean (True or False)\n",
    "### Sample Input 1\n",
    "12221\n",
    "### Sample Output 1\n",
    "True\n",
    "### Sample Input 2\n",
    "12345\n",
    "### Sample Output 2\n",
    "False\n",
    "### Involved Concepts\n",
    "I/O manipulation, Boolean operation\n"
   ]
  },
  {
   "cell_type": "code",
   "execution_count": 15,
   "metadata": {},
   "outputs": [
    {
     "name": "stdout",
     "output_type": "stream",
     "text": [
      "5 digit integer:12221\n",
      "True\n"
     ]
    }
   ],
   "source": [
    "x = str(raw_input(\"5 digit integer:\"))\n",
    "if ( x[0]==x[-1] and x[1]==x[-2]):\n",
    "    print True\n",
    "else:\n",
    "    print False"
   ]
  },
  {
   "cell_type": "markdown",
   "metadata": {},
   "source": [
    "# Task7. (Printing the Decimal Equivalent of a Binary Number)\n",
    "## Problem Description\n",
    "Input an integer containing only 0s and 1s and print its decimal equivalent.\n",
    "### Input\n",
    "A “binary” integer\n",
    "### Output\n",
    "A “Decimal” number\n",
    "### Sample Input 1\n",
    "1000\n",
    "### Sample Output 1\n",
    "8\n",
    "### Sample Input 2\n",
    "101010\n",
    "### Sample Output 2\n",
    "42\n",
    "### Involved Concepts\n",
    "I/O manipulation, arithmetic operation\n",
    "\n"
   ]
  },
  {
   "cell_type": "code",
   "execution_count": 7,
   "metadata": {},
   "outputs": [
    {
     "name": "stdout",
     "output_type": "stream",
     "text": [
      "binary number1111\n",
      "15\n"
     ]
    }
   ],
   "source": [
    "x = str(raw_input(\"binary number\"))\n",
    "y=0\n",
    "i=0\n",
    "for e in x:\n",
    "    y+=int(x[-i])*2**(i)\n",
    "    i+=1\n",
    "print y"
   ]
  },
  {
   "cell_type": "code",
   "execution_count": null,
   "metadata": {
    "collapsed": true
   },
   "outputs": [],
   "source": []
  }
 ],
 "metadata": {
  "kernelspec": {
   "display_name": "Python 2",
   "language": "python",
   "name": "python2"
  },
  "language_info": {
   "codemirror_mode": {
    "name": "ipython",
    "version": 2
   },
   "file_extension": ".py",
   "mimetype": "text/x-python",
   "name": "python",
   "nbconvert_exporter": "python",
   "pygments_lexer": "ipython2",
   "version": "2.7.13"
  }
 },
 "nbformat": 4,
 "nbformat_minor": 2
}
