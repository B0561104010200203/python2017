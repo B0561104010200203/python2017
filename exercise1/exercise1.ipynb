{
 "cells": [
  {
   "cell_type": "markdown",
   "metadata": {},
   "source": [
    "# Computer Programming Exercise 1\n"
   ]
  },
  {
   "cell_type": "markdown",
   "metadata": {},
   "source": [
    "## Question1. (integer & float expressions)\n",
    "## Write down the expected value,  calculated value,  and the reason for calculated value in the following expression   \n",
    "1. 2 * 3\n",
    "2. 2 ** 3\n",
    "3. 5 + 2 * 5\n",
    "4. (5 + 2) * 5\n",
    "5. -4 - -4 - -4\n",
    "6. 2 \\*\\* 2 \\*\\* 0\n",
    "7. (2 \\*\\* 2) \\*\\* 0\n",
    "8. 6 / 2\n",
    "9. 6 / 4\n",
    "10. 1.\n",
    "11. 6 / 4.0\n",
    "12. 9.0 \\* 0.5\n",
    "13. 9.0 ** 0.5\n",
    "14. 6 % 2\n",
    "15. 7 % 2\n",
    "16. 6.2 % 4\n",
    "\n",
    "\n",
    "\n"
   ]
  },
  {
   "cell_type": "code",
   "execution_count": 1,
   "metadata": {
    "collapsed": true
   },
   "outputs": [],
   "source": [
    "1: 6\n",
    "2: 8\n",
    "3: 15\n",
    "4: 35\n",
    "5: 4\n",
    "6: 2\n",
    "7: 1\n",
    "8: 3\n",
    "9: 1\n",
    "10:1.5\n",
    "11:1.5\n",
    "12:4.5\n",
    "13:3.0\n",
    "14:0\n",
    "15:1\n",
    "16:2.2"
   ]
  },
  {
   "cell_type": "markdown",
   "metadata": {},
   "source": [
    "## Question2. (Comparison and bool Expressions)\n",
    "## Write down the expected value,  calculated value,  and the reason for calculated value in the following expression \n",
    "\n",
    "1. 3 < 5\n",
    "\n",
    "2. 3 < 5 and 5 < 3\n",
    "\n",
    "3. True\n",
    "\n",
    "4. true\n",
    "\n",
    "5. True and False\n",
    "\n",
    "6. True and True\n",
    "\n",
    "7. True or False\n",
    "\n",
    "8. not True\n",
    "\n",
    "9. not not False\n",
    "\n",
    "10. not (False or True)\n",
    "\n",
    "11. True or (False and True)\n",
    "\n",
    "12. (5 / 0 == 1) and False\n",
    "\n",
    "13. False and (5 / 0 == 1)\n",
    "\n",
    "\n",
    "\n"
   ]
  },
  {
   "cell_type": "code",
   "execution_count": 8,
   "metadata": {},
   "outputs": [
    {
     "ename": "SyntaxError",
     "evalue": "invalid syntax (<ipython-input-8-c8d918206d33>, line 1)",
     "output_type": "error",
     "traceback": [
      "\u001b[1;36m  File \u001b[1;32m\"<ipython-input-8-c8d918206d33>\"\u001b[1;36m, line \u001b[1;32m1\u001b[0m\n\u001b[1;33m    1:True\u001b[0m\n\u001b[1;37m     ^\u001b[0m\n\u001b[1;31mSyntaxError\u001b[0m\u001b[1;31m:\u001b[0m invalid syntax\n"
     ]
    }
   ],
   "source": [
    "1:True\n",
    "2:False\n",
    "3:True\n",
    "4:expected : True ,calculated :erro , 因為要大寫\n",
    "5:False\n",
    "6:True\n",
    "7:True\n",
    "8:False\n",
    "9:False\n",
    "10:False\n",
    "11:True\n",
    "12:expected:False ,calculated :erro ,\n",
    "13:False"
   ]
  },
  {
   "cell_type": "markdown",
   "metadata": {},
   "source": [
    "## Question3. (Type and Casting)\n",
    "## Write down the expected value,  calculated value,  and the reason for calculated value in the following expression \n",
    "\n",
    "1. float(4)\n",
    "\n",
    "2. int(4)\n",
    "\n",
    "3. int(5.3)\n",
    "\n",
    "4. float(int(5.3))\n",
    "\n",
    "5. int(-5.3)\n",
    "\n",
    "6. int(-5.7)\n",
    "\n",
    "7. float(7) / 4\n",
    "\n",
    "8. float(7 / 4)\n",
    "\n",
    "\n",
    "\n"
   ]
  },
  {
   "cell_type": "code",
   "execution_count": null,
   "metadata": {
    "collapsed": true
   },
   "outputs": [],
   "source": [
    "1:4.0\n",
    "2:4\n",
    "3:5\n",
    "4:5.0\n",
    "5:-5\n",
    "6:-5\n",
    "7:1.75\n",
    "8:1.0"
   ]
  },
  {
   "cell_type": "markdown",
   "metadata": {},
   "source": [
    "## Question4. (Displaying Shapes with Asterisks) \n",
    "## Write a program that prints a box, an oval, an arrow and a diamond as follows:\n"
   ]
  },
  {
   "cell_type": "markdown",
   "metadata": {},
   "source": [
    "<img src=\"https://drive.google.com/uc?id=0B8xcn16IzjOebUZydXdNNWhxTW8\" />\n",
    "## Each solution is 5 points, total = 20 points.\n",
    "## Hint: You can use ‘for’ loop to print the shapes.\n"
   ]
  },
  {
   "cell_type": "code",
   "execution_count": 3,
   "metadata": {},
   "outputs": [
    {
     "name": "stdout",
     "output_type": "stream",
     "text": [
      "*********\n",
      "*       *\n",
      "*       *\n",
      "*       *\n",
      "*       *\n",
      "*       *\n",
      "*       *\n",
      "*       *\n",
      "*       *\n",
      "*       *\n",
      "*********\n"
     ]
    }
   ],
   "source": [
    "print(\"*********\")\n",
    "i=9\n",
    "while i>0:\n",
    "    print(\"*       *\")\n",
    "    i -= 1\n",
    "print(\"*********\")\n"
   ]
  },
  {
   "cell_type": "code",
   "execution_count": 4,
   "metadata": {},
   "outputs": [
    {
     "name": "stdout",
     "output_type": "stream",
     "text": [
      "   ***   \n",
      " *     * \n",
      "*       *\n",
      "*       *\n",
      "*       *\n",
      "*       *\n",
      "*       *\n",
      " *     * \n",
      "   ***   \n"
     ]
    }
   ],
   "source": [
    "print \"   ***   \"\n",
    "print \" *     * \"\n",
    "i=5\n",
    "while i>0:\n",
    "    print \"*       *\"\n",
    "    i-=1\n",
    "print \" *     * \"\n",
    "print \"   ***   \"\n"
   ]
  },
  {
   "cell_type": "code",
   "execution_count": 2,
   "metadata": {},
   "outputs": [
    {
     "name": "stdout",
     "output_type": "stream",
     "text": [
      "  *  \n",
      " *** \n",
      "*****\n",
      "  *  \n",
      "  *  \n",
      "  *  \n",
      "  *  \n",
      "  *  \n",
      "  *  \n"
     ]
    }
   ],
   "source": [
    "print(\"  *  \")\n",
    "print(\" *** \")\n",
    "print(\"*****\")\n",
    "i=6\n",
    "while i>0:\n",
    "    print(\"  *  \")\n",
    "    i-=1"
   ]
  },
  {
   "cell_type": "code",
   "execution_count": 7,
   "metadata": {},
   "outputs": [
    {
     "name": "stdout",
     "output_type": "stream",
     "text": [
      "       *\n",
      "      * *\n",
      "    *     *\n",
      "  *         *\n",
      "*             *\n",
      "  *         *\n",
      "    *     *\n",
      "      * *\n",
      "       *\n"
     ]
    }
   ],
   "source": [
    "print \"       *\"\n",
    "i=1\n",
    "j=0\n",
    "k=0\n",
    "t=0\n",
    "count =3\n",
    "\n",
    "while i<4:\n",
    "    while j<count:\n",
    "        print \" \",\n",
    "        j+=1\n",
    "    print\"*\",\n",
    "    while k<t:\n",
    "        print \" \",\n",
    "        k+=1\n",
    "    print\"*\"\n",
    "    k=0\n",
    "    j=0\n",
    "    count-=1\n",
    "    i+=1\n",
    "    t+=2\n",
    "\n",
    "i=1\n",
    "j=0\n",
    "k=0\n",
    "t=6\n",
    "count = 0\n",
    "while i<4:        ## 5 次\n",
    "    while j<count:\n",
    "        print \" \",\n",
    "        j+=1\n",
    "    print\"*\",\n",
    "    while k<t:\n",
    "        print \" \",\n",
    "        k+=1\n",
    "    print\"*\"\n",
    "    k=0\n",
    "    j=0\n",
    "    count+=1\n",
    "    i+=1\n",
    "    t-=2\n",
    "print\"      * *\"\n",
    "print\"       *\""
   ]
  },
  {
   "cell_type": "code",
   "execution_count": null,
   "metadata": {
    "collapsed": true
   },
   "outputs": [],
   "source": []
  }
 ],
 "metadata": {
  "kernelspec": {
   "display_name": "Python 2",
   "language": "python",
   "name": "python2"
  },
  "language_info": {
   "codemirror_mode": {
    "name": "ipython",
    "version": 2
   },
   "file_extension": ".py",
   "mimetype": "text/x-python",
   "name": "python",
   "nbconvert_exporter": "python",
   "pygments_lexer": "ipython2",
   "version": "2.7.13"
  }
 },
 "nbformat": 4,
 "nbformat_minor": 2
}
